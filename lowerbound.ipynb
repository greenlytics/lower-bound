{
 "cells": [
  {
   "cell_type": "markdown",
   "metadata": {},
   "source": [
    "# Estimating lower bounds for supervised machine learning"
   ]
  },
  {
   "cell_type": "markdown",
   "metadata": {},
   "source": [
    "Martin Nilsson, RISE (mn@drnil.com)"
   ]
  },
  {
   "cell_type": "markdown",
   "metadata": {},
   "source": [
    "The below Python program estimates how well a function can be learnt from a set of training data. It collects all observations in the neighborhood of a point, and computes the local standard deviation of the outputs corresponding to this set. The radius of the disc describes the regularity of the function, so that $r=0$ corresponds to complete overlearning (a very jagged function) and $r=\\infty$ corresponds to a maximally smooth function, i.e., a constant equalling the mean of all observations.\n",
    "\n",
    "Since training data is finite, there will always be a lack of data for small $r$. The extrapolation of the error to small $r$ is necessarily subjective.\n",
    "\n",
    "For a detailed description of the mathematics, please refer to the corresponding Mathematica program."
   ]
  },
  {
   "cell_type": "markdown",
   "metadata": {},
   "source": [
    "We use the following libraries:"
   ]
  },
  {
   "cell_type": "code",
   "execution_count": 1,
   "metadata": {},
   "outputs": [],
   "source": [
    "import numpy as np\n",
    "import matplotlib.pyplot as mp"
   ]
  },
  {
   "cell_type": "markdown",
   "metadata": {},
   "source": [
    "Below is the procedure. It expects five arguments:\n",
    "\n",
    "* `inputData`, which is an array of input observations having one observation per row;\n",
    "* `outputData`, which is a vector that has one element for every row of `inputData`;\n",
    "* `t`, which is an index into `inputData` describing the local point of interest;\n",
    "* `r`, a number describing the maximum radius; and\n",
    "* `rstep`, which is a number giving the step size in the resulting diagram.\n",
    "\n",
    "The output is a diagram estimating Bayes error as a function of `r`, surrounded by +/- 1 SD curves."
   ]
  },
  {
   "cell_type": "code",
   "execution_count": 2,
   "metadata": {},
   "outputs": [],
   "source": [
    "def lowerbounddiagram(inputData, outputData, t, r, rstep):\n",
    "    # Whiten x\n",
    "    m = np.mean(inputData)\n",
    "    x = inputData.T - m\n",
    "    a = x.dot(x.T)/x.shape[1]\n",
    "    u, d, _ = np.linalg.svd(a)\n",
    "    b = np.sqrt(np.linalg.pinv(np.diag(d))).dot(u.T)\n",
    "    # whitened x in z\n",
    "    z = b.dot(x)\n",
    "    # Compute transformation of current location\n",
    "    z0 = z[:,t]\n",
    "    # Compute covariance of inputs with outputs\n",
    "    cov = z.dot(outputData - np.mean(outputData))\n",
    "    # Feature weighting from covariance\n",
    "    weights = cov/np.sqrt(cov@cov)\n",
    "    # Compute weighted distances from current point to other points\n",
    "    dist = np.sqrt(np.sum((((z.T - z0) * weights).T)**2,axis=0))\n",
    "    # Check n discs with radius from zero to r\n",
    "    n = (int)(r/rstep)\n",
    "    # Initialize result vector\n",
    "    err = np.zeros((n), dtype=np.float64)\n",
    "    pred = np.zeros((n), dtype=np.float64)\n",
    "    regularity = np.zeros((n), dtype=np.float64)\n",
    "    # Count of points in disc\n",
    "    count = np.zeros((n), dtype=np.int32)\n",
    "    regularity = rstep * np.arange(n)\n",
    "    # For every disc,\n",
    "    for i in range(n):\n",
    "        disc = outputData[dist < regularity[i]]\n",
    "        # Compute error\n",
    "        if disc.size < 2: continue\n",
    "        # only if there are at least two points within disc\n",
    "        pred[i] = np.mean(disc)\n",
    "        err[i] = np.std(disc)\n",
    "        count[i] = disc.size\n",
    "    return pred, regularity, err, count"
   ]
  },
  {
   "cell_type": "markdown",
   "metadata": {},
   "source": [
    "For the following demo, we assume that observations are registered as a time series indexed by `t`. The delay from the last input observation to the output is `tdelay`. The data files are extracted from GEFCom'14 data (credits to Novin Shahroudi for this)."
   ]
  },
  {
   "cell_type": "code",
   "execution_count": 3,
   "metadata": {},
   "outputs": [],
   "source": [
    "def demo(t, tdelay=0):\n",
    "    global x\n",
    "    global y\n",
    "    try:\n",
    "        x\n",
    "    except :\n",
    "        # Initialize x if not already initialized\n",
    "        x = np.loadtxt(\"x2.csv\", delimiter=\",\")\n",
    "    try:\n",
    "        y\n",
    "    except:\n",
    "        # Initialize x if not already initialized\n",
    "        y = np.loadtxt(\"y2.csv\", delimiter=\",\")\n",
    "    if tdelay > 0:\n",
    "        # Strip end of input data corresponding to delay\n",
    "        x2 = x[:-tdelay,:]\n",
    "    else:\n",
    "        x2 = x\n",
    "    # Strip beginning of output data corresponding to delay\n",
    "    y2 = y[tdelay:]\n",
    "    # Compute and plot error as a function of r\n",
    "    pred, regularity, err, count = lowerbounddiagram(x2, y2, t, 2, 0.01)\n",
    "    fig, ax = mp.subplots()\n",
    "    delta = np.empty((count.size))\n",
    "    delta[:] = np.NaN\n",
    "    delta[count > 1] = 1/np.sqrt(count[count > 1]-1)\n",
    "    ax.plot(regularity, err, lw=3)\n",
    "    ax.plot(regularity, err * (1 + delta), 'r--')\n",
    "    ax.plot(regularity, err * (1 - delta), 'r--')\n",
    "    # Coefficient of variation\n",
    "    #ax.plot(regularity, err/pred)\n",
    "    ax.set(title='Estimate of best error as a function of\\n'\n",
    "                 'regularity with +/-1 SD',\n",
    "           xlabel='Regularity',\n",
    "           ylabel='Error')\n",
    "    mp.show()"
   ]
  },
  {
   "cell_type": "markdown",
   "metadata": {},
   "source": [
    "The following example shows the estimate given the wind speed forecast of four wind speed sensors 12 hours before and 12 hours after t (i.e., 96 pieces of data) at one wind power plant, predicting the output power:"
   ]
  },
  {
   "cell_type": "code",
   "execution_count": 4,
   "metadata": {
    "scrolled": false
   },
   "outputs": [
    {
     "ename": "OSError",
     "evalue": "x2.csv not found.",
     "output_type": "error",
     "traceback": [
      "\u001b[0;31m---------------------------------------------------------------------------\u001b[0m",
      "\u001b[0;31mNameError\u001b[0m                                 Traceback (most recent call last)",
      "\u001b[0;32m<ipython-input-3-04cc7069d026>\u001b[0m in \u001b[0;36mdemo\u001b[0;34m(t, tdelay)\u001b[0m\n\u001b[1;32m      4\u001b[0m     \u001b[0;32mtry\u001b[0m\u001b[0;34m:\u001b[0m\u001b[0;34m\u001b[0m\u001b[0;34m\u001b[0m\u001b[0m\n\u001b[0;32m----> 5\u001b[0;31m         \u001b[0mx\u001b[0m\u001b[0;34m\u001b[0m\u001b[0;34m\u001b[0m\u001b[0m\n\u001b[0m\u001b[1;32m      6\u001b[0m     \u001b[0;32mexcept\u001b[0m \u001b[0;34m:\u001b[0m\u001b[0;34m\u001b[0m\u001b[0;34m\u001b[0m\u001b[0m\n",
      "\u001b[0;31mNameError\u001b[0m: name 'x' is not defined",
      "\nDuring handling of the above exception, another exception occurred:\n",
      "\u001b[0;31mOSError\u001b[0m                                   Traceback (most recent call last)",
      "\u001b[0;32m<ipython-input-4-1b42dda99c5a>\u001b[0m in \u001b[0;36m<module>\u001b[0;34m\u001b[0m\n\u001b[0;32m----> 1\u001b[0;31m \u001b[0mdemo\u001b[0m\u001b[0;34m(\u001b[0m\u001b[0;36m8000\u001b[0m\u001b[0;34m)\u001b[0m\u001b[0;34m\u001b[0m\u001b[0;34m\u001b[0m\u001b[0m\n\u001b[0m",
      "\u001b[0;32m<ipython-input-3-04cc7069d026>\u001b[0m in \u001b[0;36mdemo\u001b[0;34m(t, tdelay)\u001b[0m\n\u001b[1;32m      6\u001b[0m     \u001b[0;32mexcept\u001b[0m \u001b[0;34m:\u001b[0m\u001b[0;34m\u001b[0m\u001b[0;34m\u001b[0m\u001b[0m\n\u001b[1;32m      7\u001b[0m         \u001b[0;31m# Initialize x if not already initialized\u001b[0m\u001b[0;34m\u001b[0m\u001b[0;34m\u001b[0m\u001b[0;34m\u001b[0m\u001b[0m\n\u001b[0;32m----> 8\u001b[0;31m         \u001b[0mx\u001b[0m \u001b[0;34m=\u001b[0m \u001b[0mnp\u001b[0m\u001b[0;34m.\u001b[0m\u001b[0mloadtxt\u001b[0m\u001b[0;34m(\u001b[0m\u001b[0;34m\"x2.csv\"\u001b[0m\u001b[0;34m,\u001b[0m \u001b[0mdelimiter\u001b[0m\u001b[0;34m=\u001b[0m\u001b[0;34m\",\"\u001b[0m\u001b[0;34m)\u001b[0m\u001b[0;34m\u001b[0m\u001b[0;34m\u001b[0m\u001b[0m\n\u001b[0m\u001b[1;32m      9\u001b[0m     \u001b[0;32mtry\u001b[0m\u001b[0;34m:\u001b[0m\u001b[0;34m\u001b[0m\u001b[0;34m\u001b[0m\u001b[0m\n\u001b[1;32m     10\u001b[0m         \u001b[0my\u001b[0m\u001b[0;34m\u001b[0m\u001b[0;34m\u001b[0m\u001b[0m\n",
      "\u001b[0;32m/anaconda3/lib/python3.6/site-packages/numpy/lib/npyio.py\u001b[0m in \u001b[0;36mloadtxt\u001b[0;34m(fname, dtype, comments, delimiter, converters, skiprows, usecols, unpack, ndmin, encoding, max_rows)\u001b[0m\n\u001b[1;32m    960\u001b[0m             \u001b[0mfname\u001b[0m \u001b[0;34m=\u001b[0m \u001b[0mos_fspath\u001b[0m\u001b[0;34m(\u001b[0m\u001b[0mfname\u001b[0m\u001b[0;34m)\u001b[0m\u001b[0;34m\u001b[0m\u001b[0;34m\u001b[0m\u001b[0m\n\u001b[1;32m    961\u001b[0m         \u001b[0;32mif\u001b[0m \u001b[0m_is_string_like\u001b[0m\u001b[0;34m(\u001b[0m\u001b[0mfname\u001b[0m\u001b[0;34m)\u001b[0m\u001b[0;34m:\u001b[0m\u001b[0;34m\u001b[0m\u001b[0;34m\u001b[0m\u001b[0m\n\u001b[0;32m--> 962\u001b[0;31m             \u001b[0mfh\u001b[0m \u001b[0;34m=\u001b[0m \u001b[0mnp\u001b[0m\u001b[0;34m.\u001b[0m\u001b[0mlib\u001b[0m\u001b[0;34m.\u001b[0m\u001b[0m_datasource\u001b[0m\u001b[0;34m.\u001b[0m\u001b[0mopen\u001b[0m\u001b[0;34m(\u001b[0m\u001b[0mfname\u001b[0m\u001b[0;34m,\u001b[0m \u001b[0;34m'rt'\u001b[0m\u001b[0;34m,\u001b[0m \u001b[0mencoding\u001b[0m\u001b[0;34m=\u001b[0m\u001b[0mencoding\u001b[0m\u001b[0;34m)\u001b[0m\u001b[0;34m\u001b[0m\u001b[0;34m\u001b[0m\u001b[0m\n\u001b[0m\u001b[1;32m    963\u001b[0m             \u001b[0mfencoding\u001b[0m \u001b[0;34m=\u001b[0m \u001b[0mgetattr\u001b[0m\u001b[0;34m(\u001b[0m\u001b[0mfh\u001b[0m\u001b[0;34m,\u001b[0m \u001b[0;34m'encoding'\u001b[0m\u001b[0;34m,\u001b[0m \u001b[0;34m'latin1'\u001b[0m\u001b[0;34m)\u001b[0m\u001b[0;34m\u001b[0m\u001b[0;34m\u001b[0m\u001b[0m\n\u001b[1;32m    964\u001b[0m             \u001b[0mfh\u001b[0m \u001b[0;34m=\u001b[0m \u001b[0miter\u001b[0m\u001b[0;34m(\u001b[0m\u001b[0mfh\u001b[0m\u001b[0;34m)\u001b[0m\u001b[0;34m\u001b[0m\u001b[0;34m\u001b[0m\u001b[0m\n",
      "\u001b[0;32m/anaconda3/lib/python3.6/site-packages/numpy/lib/_datasource.py\u001b[0m in \u001b[0;36mopen\u001b[0;34m(path, mode, destpath, encoding, newline)\u001b[0m\n\u001b[1;32m    264\u001b[0m \u001b[0;34m\u001b[0m\u001b[0m\n\u001b[1;32m    265\u001b[0m     \u001b[0mds\u001b[0m \u001b[0;34m=\u001b[0m \u001b[0mDataSource\u001b[0m\u001b[0;34m(\u001b[0m\u001b[0mdestpath\u001b[0m\u001b[0;34m)\u001b[0m\u001b[0;34m\u001b[0m\u001b[0;34m\u001b[0m\u001b[0m\n\u001b[0;32m--> 266\u001b[0;31m     \u001b[0;32mreturn\u001b[0m \u001b[0mds\u001b[0m\u001b[0;34m.\u001b[0m\u001b[0mopen\u001b[0m\u001b[0;34m(\u001b[0m\u001b[0mpath\u001b[0m\u001b[0;34m,\u001b[0m \u001b[0mmode\u001b[0m\u001b[0;34m,\u001b[0m \u001b[0mencoding\u001b[0m\u001b[0;34m=\u001b[0m\u001b[0mencoding\u001b[0m\u001b[0;34m,\u001b[0m \u001b[0mnewline\u001b[0m\u001b[0;34m=\u001b[0m\u001b[0mnewline\u001b[0m\u001b[0;34m)\u001b[0m\u001b[0;34m\u001b[0m\u001b[0;34m\u001b[0m\u001b[0m\n\u001b[0m\u001b[1;32m    267\u001b[0m \u001b[0;34m\u001b[0m\u001b[0m\n\u001b[1;32m    268\u001b[0m \u001b[0;34m\u001b[0m\u001b[0m\n",
      "\u001b[0;32m/anaconda3/lib/python3.6/site-packages/numpy/lib/_datasource.py\u001b[0m in \u001b[0;36mopen\u001b[0;34m(self, path, mode, encoding, newline)\u001b[0m\n\u001b[1;32m    622\u001b[0m                                       encoding=encoding, newline=newline)\n\u001b[1;32m    623\u001b[0m         \u001b[0;32melse\u001b[0m\u001b[0;34m:\u001b[0m\u001b[0;34m\u001b[0m\u001b[0;34m\u001b[0m\u001b[0m\n\u001b[0;32m--> 624\u001b[0;31m             \u001b[0;32mraise\u001b[0m \u001b[0mIOError\u001b[0m\u001b[0;34m(\u001b[0m\u001b[0;34m\"%s not found.\"\u001b[0m \u001b[0;34m%\u001b[0m \u001b[0mpath\u001b[0m\u001b[0;34m)\u001b[0m\u001b[0;34m\u001b[0m\u001b[0;34m\u001b[0m\u001b[0m\n\u001b[0m\u001b[1;32m    625\u001b[0m \u001b[0;34m\u001b[0m\u001b[0m\n\u001b[1;32m    626\u001b[0m \u001b[0;34m\u001b[0m\u001b[0m\n",
      "\u001b[0;31mOSError\u001b[0m: x2.csv not found."
     ]
    }
   ],
   "source": [
    "demo(8000)"
   ]
  },
  {
   "cell_type": "markdown",
   "metadata": {},
   "source": [
    "Here, in a neighborhood of $t=8000$, it is reasonable to expect an error bound of approximately 0.05 given the present dataset and depending on how smooth a solution we expect."
   ]
  }
 ],
 "metadata": {
  "kernelspec": {
   "display_name": "Python [default]",
   "language": "python",
   "name": "python3"
  },
  "language_info": {
   "codemirror_mode": {
    "name": "ipython",
    "version": 3
   },
   "file_extension": ".py",
   "mimetype": "text/x-python",
   "name": "python",
   "nbconvert_exporter": "python",
   "pygments_lexer": "ipython3",
   "version": "3.6.8"
  }
 },
 "nbformat": 4,
 "nbformat_minor": 2
}
